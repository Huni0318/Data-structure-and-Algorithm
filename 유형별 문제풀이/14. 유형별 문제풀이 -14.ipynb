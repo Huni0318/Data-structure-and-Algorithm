{
 "cells": [
  {
   "cell_type": "markdown",
   "metadata": {},
   "source": [
    "# 백준 1260번(DFS와 BFS)"
   ]
  },
  {
   "cell_type": "code",
   "execution_count": null,
   "metadata": {},
   "outputs": [],
   "source": [
    "from collections import deque\n",
    "def dfs(v):\n",
    "    print(v, end = ' ')\n",
    "    visited[v] = True\n",
    "    for e in adj[v]:\n",
    "        if not(visited[e]):\n",
    "            dfs(e)\n",
    "            \n",
    "def bfs(v):\n",
    "    q = deque([v])\n",
    "    while q:\n",
    "        v = q.popleft()\n",
    "        if not(visited[v]):\n",
    "            visited[v] = True\n",
    "            print(v, end = ' ')\n",
    "            for e in adj[v]:\n",
    "                if not visited[e]:\n",
    "                    q.append(e)\n",
    "                    \n",
    "                    \n",
    "n, m, v = map(int, input().split())\n",
    "adj = [[] for _ in range(n+1)]\n",
    "\n",
    "for _ in range(m):\n",
    "    x, y = map(int,input().split())\n",
    "    adj[x].append(y)\n",
    "    adj[y].append(x)\n",
    "    \n",
    "for e in adj:\n",
    "    e.sort()\n",
    "    \n",
    "visited = [False]*(n+1)\n",
    "dfs(v)\n",
    "print()\n",
    "visited = [False]*(n+1)\n",
    "bfs(v)"
   ]
  },
  {
   "cell_type": "markdown",
   "metadata": {},
   "source": [
    "# 백준 1697번(숨바꼭질)"
   ]
  },
  {
   "cell_type": "code",
   "execution_count": null,
   "metadata": {},
   "outputs": [],
   "source": [
    "from coleections import deque\n",
    "\n",
    "MAX = 100001\n",
    "n,k = map(int,input().split())\n",
    "array = [0] * MAX\n",
    "\n",
    "def bfs():\n",
    "    q = deque([n])\n",
    "    while q:\n",
    "        now_pos = q.popleft()\n",
    "        if now_pos == k:\n",
    "            return array[now_pos]\n",
    "        for next_pos in (now_pos - 1, now_pos+1, now_pos*2):\n",
    "            if 0 <= next_pos < MAX and not array[next_pos]:\n",
    "                array[next_pos] = array[now_pos] + 1\n",
    "                q.append(next_pos)\n",
    "                \n",
    "print(bfs())"
   ]
  }
 ],
 "metadata": {
  "kernelspec": {
   "display_name": "Python 3",
   "language": "python",
   "name": "python3"
  },
  "language_info": {
   "codemirror_mode": {
    "name": "ipython",
    "version": 3
   },
   "file_extension": ".py",
   "mimetype": "text/x-python",
   "name": "python",
   "nbconvert_exporter": "python",
   "pygments_lexer": "ipython3",
   "version": "3.8.3"
  }
 },
 "nbformat": 4,
 "nbformat_minor": 4
}
