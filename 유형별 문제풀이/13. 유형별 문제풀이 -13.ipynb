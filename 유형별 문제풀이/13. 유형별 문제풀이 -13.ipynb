{
 "cells": [
  {
   "cell_type": "markdown",
   "metadata": {},
   "source": [
    "# 백준 9251번 (LCS)"
   ]
  },
  {
   "cell_type": "code",
   "execution_count": null,
   "metadata": {},
   "outputs": [],
   "source": [
    "x = input()\n",
    "y = input()\n",
    "\n",
    "dp = [[0] * (len(y)+1) for _ in range(len(x) + 1)]\n",
    "for i in range(1m len(x) + 1):\n",
    "    for j in range(1, len(y) + 1):\n",
    "        if x[i - 1] == y[j - 1]:\n",
    "            dp[i][j] = dp[i - 1][j - 1] + 1\n",
    "        else:\n",
    "            dp[i][j] = max(dp[i][j - 1], dp[i - 1][j])\n",
    "            \n",
    "print(dp[len(x)][len(y)])"
   ]
  },
  {
   "cell_type": "markdown",
   "metadata": {},
   "source": [
    "# 백준 1495번(기타리스트)"
   ]
  },
  {
   "cell_type": "code",
   "execution_count": null,
   "metadata": {},
   "outputs": [],
   "source": [
    "n, s, m = map(int,input().split())\n",
    "array = list(map(int,input().split()))\n",
    "\n",
    "dp = [[0]*(m+1) for _ in range(n+1)]\n",
    "dp[0][s] = 1\n",
    "\n",
    "for i in range(1, n+1):\n",
    "    for j in range(m+1):\n",
    "        if dp[i - 1][j] == 0:\n",
    "            continue\n",
    "        if j - array[i - 1] >= 0:\n",
    "            dp[i][j - array[i - 1]] = 1\n",
    "        if j + array[i - 1] <= m:\n",
    "            dp[i][j + array[i - 1]] = 1\n",
    "\n",
    "result = -1\n",
    "for i in range(m, -1, -1):\n",
    "    if dp[n][i] == 1:\n",
    "        result = i\n",
    "        break\n",
    "print(result)"
   ]
  },
  {
   "cell_type": "code",
   "execution_count": null,
   "metadata": {},
   "outputs": [],
   "source": []
  }
 ],
 "metadata": {
  "kernelspec": {
   "display_name": "Python 3",
   "language": "python",
   "name": "python3"
  },
  "language_info": {
   "codemirror_mode": {
    "name": "ipython",
    "version": 3
   },
   "file_extension": ".py",
   "mimetype": "text/x-python",
   "name": "python",
   "nbconvert_exporter": "python",
   "pygments_lexer": "ipython3",
   "version": "3.8.3"
  }
 },
 "nbformat": 4,
 "nbformat_minor": 4
}
