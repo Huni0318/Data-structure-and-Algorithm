{
 "cells": [
  {
   "cell_type": "markdown",
   "metadata": {},
   "source": [
    "# 백준 2606번(바이러스)"
   ]
  },
  {
   "cell_type": "code",
   "execution_count": null,
   "metadata": {},
   "outputs": [],
   "source": [
    "n = int(input())\n",
    "m = int(input())\n",
    "adj = [[] for _ in range(n+1)]\n",
    "visited = [False] * (n+1)\n",
    "count = 0\n",
    "\n",
    "for _ in range(m):\n",
    "    x, y = map(int, input().split())\n",
    "    adj[x].append(y)\n",
    "    adj[y].append(x)\n",
    "    \n",
    "def dfs(now_pos):\n",
    "    global count\n",
    "    count += 1\n",
    "    visited[now_pos] = True\n",
    "    for next_pos in adj[now_pos]:\n",
    "        if not visited[next_pos]:\n",
    "            dfs(next_pos)\n",
    "            \n",
    "dfs(1)\n",
    "print(count - 1)"
   ]
  },
  {
   "cell_type": "markdown",
   "metadata": {},
   "source": [
    "# 백준 1012번(유기농 배추)"
   ]
  },
  {
   "cell_type": "code",
   "execution_count": 2,
   "metadata": {},
   "outputs": [],
   "source": [
    "import sys\n",
    "sys.setrecursionlimit(100000)\n",
    "\n",
    "def dfs(x,y):\n",
    "    visited[x][y] = True\n",
    "    directions = [(-1,0),(1,0),(0,-1),(0,1)]\n",
    "    for dx, dy in directions:\n",
    "        nx, ny = x + dx, y+dy\n",
    "        if nx < 0 or nx >=n or ny < 0 or ny >= m:\n",
    "            continue\n",
    "        if array[nx][ny] and not visited[nx][ny]:\n",
    "            dfs(nx, ny)\n",
    "            \n",
    "for _ in range(int(input())):\n",
    "    m, n, k = map(int, input().split())\n",
    "    array = [[0] * m for _ in range(n)]\n",
    "    visited = [[False]*m for _ in range(n)]\n",
    "    for _ in range(k):\n",
    "        y, x = map(int, input().split())\n",
    "        array[x][y] = 1\n",
    "    result = 0\n",
    "    for i in range(n):\n",
    "        for j in range(m):\n",
    "            if array[i][j] and not visited[i][j]:\n",
    "                dfs(i,j)\n",
    "                result += 1\n",
    "    print(result)"
   ]
  },
  {
   "cell_type": "markdown",
   "metadata": {},
   "source": [
    "# 백준 1325번(효율적인 해킹)"
   ]
  },
  {
   "cell_type": "code",
   "execution_count": null,
   "metadata": {},
   "outputs": [],
   "source": [
    "from collections import deque\n",
    "\n",
    "n, m = map(int, input().split())\n",
    "adj = [[] for _ in range(n+1)]\n",
    "\n",
    "for _ in range(m):\n",
    "    x, y = map(int, input().split())\n",
    "    adj[y].append(x)\n",
    "    \n",
    "def bfs(v):\n",
    "    q = deque([v])\n",
    "    visited = [False] * (n+1)\n",
    "    visited[v] = True\n",
    "    count = 1\n",
    "    while q:\n",
    "        v = q.popleft()\n",
    "        for e in adj[v]:\n",
    "            if not visited[e]:\n",
    "                q.append(e)\n",
    "                visited[e] = True\n",
    "                count += 1\n",
    "                \n",
    "return count\n",
    "\n",
    "result = []\n",
    "max_value = -1\n",
    "for i in range(1, n+1):\n",
    "    c = bfs(i)\n",
    "    if c > max_value:\n",
    "        result = [i]\n",
    "        max_value = c\n",
    "    elif c == max_value:\n",
    "        result.append(i)\n",
    "        max_value = c\n",
    "        \n",
    "for e in result:\n",
    "    print(e, end = \" \")"
   ]
  }
 ],
 "metadata": {
  "kernelspec": {
   "display_name": "Python 3",
   "language": "python",
   "name": "python3"
  },
  "language_info": {
   "codemirror_mode": {
    "name": "ipython",
    "version": 3
   },
   "file_extension": ".py",
   "mimetype": "text/x-python",
   "name": "python",
   "nbconvert_exporter": "python",
   "pygments_lexer": "ipython3",
   "version": "3.8.3"
  }
 },
 "nbformat": 4,
 "nbformat_minor": 4
}
