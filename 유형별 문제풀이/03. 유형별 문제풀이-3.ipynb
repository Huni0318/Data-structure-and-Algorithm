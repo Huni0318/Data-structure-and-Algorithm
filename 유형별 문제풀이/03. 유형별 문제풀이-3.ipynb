{
 "cells": [
  {
   "cell_type": "markdown",
   "metadata": {},
   "source": [
    "# 백준 10930번(SHA-256)"
   ]
  },
  {
   "cell_type": "markdown",
   "metadata": {},
   "source": [
    "##  핵심 아이디어\n",
    "1. hashlib의 sha256함수를 이용하면 SHA256해시를 구할 수 있습니다.\n",
    "2. hashlib.sha256(문자열의 바이트 객체).hexdigest():해시 결과 문자열"
   ]
  },
  {
   "cell_type": "code",
   "execution_count": 1,
   "metadata": {},
   "outputs": [
    {
     "name": "stdout",
     "output_type": "stream",
     "text": [
      "asdasd\n",
      "5fd924625f6ab16a19cc9807c7c506ae1813490e4ba675f843d5a10e0baacdb8\n"
     ]
    }
   ],
   "source": [
    "import hashlib\n",
    "\n",
    "input_data = input()\n",
    "encoded_data = input_data.encode()\n",
    "result = hashlib.sha256(encoded_data).hexdigest()\n",
    "print(result)"
   ]
  },
  {
   "cell_type": "markdown",
   "metadata": {},
   "source": [
    "# 백준 1920번(수 찾기)"
   ]
  },
  {
   "cell_type": "code",
   "execution_count": 3,
   "metadata": {},
   "outputs": [
    {
     "name": "stdout",
     "output_type": "stream",
     "text": [
      "5\n",
      "4 1 5 2 3\n",
      "5\n",
      "1 3 7 9 5\n",
      "1\n",
      "1\n",
      "0\n",
      "0\n",
      "1\n"
     ]
    }
   ],
   "source": [
    "n = int(input())\n",
    "array = set(map(int,input().split()))\n",
    "m = int(input())\n",
    "x = list(map(int,input().split()))\n",
    "\n",
    "for i in x:\n",
    "    if i not in array:\n",
    "        print('0')\n",
    "    else:\n",
    "        print('1')"
   ]
  },
  {
   "cell_type": "markdown",
   "metadata": {},
   "source": [
    "# 백준 4195번 (친구 네트워크)"
   ]
  },
  {
   "cell_type": "code",
   "execution_count": 4,
   "metadata": {},
   "outputs": [
    {
     "name": "stdout",
     "output_type": "stream",
     "text": [
      "2232"
     ]
    }
   ],
   "source": [
    "# 합집합 찾기(Union-Find) 알고리즘\n",
    "def find(x):\n",
    "    if x== parent[x]:\n",
    "        return x\n",
    "    else:\n",
    "        p = find(parent[x])\n",
    "        parent[x] = p\n",
    "        return parent[x]\n",
    "    \n",
    "def union(x,y):\n",
    "    x = find(x)\n",
    "    y = find(y)\n",
    "    \n",
    "    parent[y] = x\n",
    "    \n",
    "parent = []\n",
    "\n",
    "for i in range(0,5):\n",
    "    parent.append(i)\n",
    "    \n",
    "union(1,4)\n",
    "union(2,4)\n",
    "\n",
    "for i in range(1, len(parent)):\n",
    "    print(find(i), end='')"
   ]
  },
  {
   "cell_type": "code",
   "execution_count": 5,
   "metadata": {},
   "outputs": [
    {
     "name": "stdout",
     "output_type": "stream",
     "text": [
      "asd\n"
     ]
    },
    {
     "ename": "ValueError",
     "evalue": "invalid literal for int() with base 10: 'asd'",
     "output_type": "error",
     "traceback": [
      "\u001b[1;31m---------------------------------------------------------------------------\u001b[0m",
      "\u001b[1;31mValueError\u001b[0m                                Traceback (most recent call last)",
      "\u001b[1;32m<ipython-input-5-597316cecf56>\u001b[0m in \u001b[0;36m<module>\u001b[1;34m\u001b[0m\n\u001b[0;32m     15\u001b[0m         \u001b[0mnumber\u001b[0m\u001b[1;33m[\u001b[0m\u001b[0mx\u001b[0m\u001b[1;33m]\u001b[0m \u001b[1;33m+=\u001b[0m \u001b[0mnumber\u001b[0m\u001b[1;33m[\u001b[0m\u001b[0my\u001b[0m\u001b[1;33m]\u001b[0m\u001b[1;33m\u001b[0m\u001b[1;33m\u001b[0m\u001b[0m\n\u001b[0;32m     16\u001b[0m \u001b[1;33m\u001b[0m\u001b[0m\n\u001b[1;32m---> 17\u001b[1;33m \u001b[0mtest_case\u001b[0m \u001b[1;33m=\u001b[0m \u001b[0mint\u001b[0m\u001b[1;33m(\u001b[0m\u001b[0minput\u001b[0m\u001b[1;33m(\u001b[0m\u001b[1;33m)\u001b[0m\u001b[1;33m)\u001b[0m\u001b[1;33m\u001b[0m\u001b[1;33m\u001b[0m\u001b[0m\n\u001b[0m\u001b[0;32m     18\u001b[0m \u001b[1;33m\u001b[0m\u001b[0m\n\u001b[0;32m     19\u001b[0m \u001b[1;32mfor\u001b[0m \u001b[0m_\u001b[0m \u001b[1;32min\u001b[0m \u001b[0mrange\u001b[0m\u001b[1;33m(\u001b[0m\u001b[0mtest_case\u001b[0m\u001b[1;33m)\u001b[0m\u001b[1;33m:\u001b[0m\u001b[1;33m\u001b[0m\u001b[1;33m\u001b[0m\u001b[0m\n",
      "\u001b[1;31mValueError\u001b[0m: invalid literal for int() with base 10: 'asd'"
     ]
    }
   ],
   "source": [
    "def find(x):\n",
    "    if x== parent[x]:\n",
    "        return x\n",
    "    else:\n",
    "        p = find(parent[x])\n",
    "        parent[x] = p\n",
    "        return p\n",
    "    \n",
    "def union(x,y):\n",
    "    x = find(x)\n",
    "    y = find(y)\n",
    "    \n",
    "    if x != y:\n",
    "        parent[y] = x\n",
    "        number[x] += number[y]\n",
    "        \n",
    "test_case = int(input())\n",
    "\n",
    "for _ in range(test_case):\n",
    "    \n",
    "    parent = dict()\n",
    "    number = dict()\n",
    "    \n",
    "    f = int(input())\n",
    "    \n",
    "    for _ in range(f):\n",
    "        x, y = input().split(' ')\n",
    "        \n",
    "        if x not in parent:\n",
    "            parent[x] = x\n",
    "            number[x] = 1\n",
    "        \n",
    "        if y not in parent:\n",
    "            parent[y] = y\n",
    "            number[y] = 1\n",
    "            \n",
    "        union(x,y)\n",
    "        print(number[find(x)])"
   ]
  }
 ],
 "metadata": {
  "kernelspec": {
   "display_name": "Python 3",
   "language": "python",
   "name": "python3"
  },
  "language_info": {
   "codemirror_mode": {
    "name": "ipython",
    "version": 3
   },
   "file_extension": ".py",
   "mimetype": "text/x-python",
   "name": "python",
   "nbconvert_exporter": "python",
   "pygments_lexer": "ipython3",
   "version": "3.8.3"
  }
 },
 "nbformat": 4,
 "nbformat_minor": 4
}
