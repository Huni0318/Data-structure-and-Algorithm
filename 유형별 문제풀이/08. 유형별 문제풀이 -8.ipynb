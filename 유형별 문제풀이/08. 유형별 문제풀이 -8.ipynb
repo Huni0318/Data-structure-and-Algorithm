{
 "cells": [
  {
   "cell_type": "markdown",
   "metadata": {},
   "source": [
    "# 백준 1543번(문서 검색)"
   ]
  },
  {
   "cell_type": "code",
   "execution_count": 1,
   "metadata": {},
   "outputs": [
    {
     "name": "stdout",
     "output_type": "stream",
     "text": [
      "ababababa\n",
      "aba\n",
      "2\n"
     ]
    }
   ],
   "source": [
    "document = input()\n",
    "word = input()\n",
    "\n",
    "index = 0\n",
    "result = 0\n",
    "\n",
    "while len(document) - index >= len(word):\n",
    "    if document[index:index + len(word)] == word: # 문서에서 보고 있는 단어가 찾고자 하는 단어인 경우\n",
    "        result += 1\n",
    "        index += len(word)\n",
    "    else:\n",
    "        index += 1\n",
    "        \n",
    "print(result)"
   ]
  },
  {
   "cell_type": "markdown",
   "metadata": {},
   "source": [
    "# 백준 1568번(새)"
   ]
  },
  {
   "cell_type": "code",
   "execution_count": 2,
   "metadata": {},
   "outputs": [
    {
     "name": "stdout",
     "output_type": "stream",
     "text": [
      "14\n",
      "7\n"
     ]
    }
   ],
   "source": [
    "n = int(input())\n",
    "result = 0\n",
    "k = 1\n",
    "\n",
    "while n != 0:\n",
    "    if k > n:\n",
    "        k = 1\n",
    "    n -= k\n",
    "    k += 1\n",
    "    result += 1\n",
    "    \n",
    "print(result)"
   ]
  },
  {
   "cell_type": "markdown",
   "metadata": {},
   "source": [
    "# 백준 1302번(베스트셀러)"
   ]
  },
  {
   "cell_type": "code",
   "execution_count": 7,
   "metadata": {},
   "outputs": [
    {
     "name": "stdout",
     "output_type": "stream",
     "text": [
      "5\n",
      "top\n",
      "top\n",
      "top\n",
      "top\n",
      "kimtoip\n",
      "top\n"
     ]
    }
   ],
   "source": [
    "n = int(input())\n",
    "\n",
    "books = {} # 횟수를 셀 떄는 dictionaly가 효과적\n",
    "\n",
    "for _ in range(n):\n",
    "    book = input()\n",
    "    if book not in books:\n",
    "        books[book] = 1\n",
    "    else:\n",
    "        books[book] += 1\n",
    "        \n",
    "target = max(books.values())\n",
    "array = []\n",
    "\n",
    "for book, number in books.items():\n",
    "    if number == target:\n",
    "        array.append(book)\n",
    "\n",
    "print(sorted(array)[0])"
   ]
  },
  {
   "cell_type": "markdown",
   "metadata": {},
   "source": [
    "# 백준 1668번(트로피 진열)"
   ]
  },
  {
   "cell_type": "code",
   "execution_count": null,
   "metadata": {},
   "outputs": [],
   "source": []
  }
 ],
 "metadata": {
  "kernelspec": {
   "display_name": "Python 3",
   "language": "python",
   "name": "python3"
  },
  "language_info": {
   "codemirror_mode": {
    "name": "ipython",
    "version": 3
   },
   "file_extension": ".py",
   "mimetype": "text/x-python",
   "name": "python",
   "nbconvert_exporter": "python",
   "pygments_lexer": "ipython3",
   "version": "3.8.3"
  }
 },
 "nbformat": 4,
 "nbformat_minor": 4
}
